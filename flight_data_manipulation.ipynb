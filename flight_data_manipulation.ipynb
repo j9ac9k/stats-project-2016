{
 "cells": [
  {
   "cell_type": "code",
   "execution_count": 58,
   "metadata": {
    "collapsed": false
   },
   "outputs": [],
   "source": [
    "import csv\n",
    "import datetime\n",
    "converted_data = {}\n",
    "days_to_skip = set(['2013-11-01', '2013-11-02', '2013-11-03', '2013-12-31', '2013-12-30'])\n",
    "with open('./data/Linate_Flights_Schedule.csv') as csvfile:\n",
    "    content = csv.reader(csvfile, delimiter=',')\n",
    "    next(content, None)\n",
    "    list_content = list(content)\n",
    "    for index, row in enumerate(list_content):\n",
    "\n",
    "        if row[0].split(' ')[0] in days_to_skip:\n",
    "            continue \n",
    "        total_flights = sum([int(row[1]), int(row[2])])\n",
    "        try:\n",
    "            total_flights += int(list_content[index+1][1])\n",
    "        except IndexError:\n",
    "            pass\n",
    "        output_day = datetime.datetime.strptime(row[0].split(' ')[0], '%Y-%m-%d').strftime('%a')\n",
    "        converted_data[' '.join([output_day, row[0].split(' ')[1]])] = total_flights\n",
    "        \n",
    "with open('./data/Linate_Data.csv') as csvfile:\n",
    "    content = csv.reader(csvfile, delimiter=',')\n",
    "    next(content, None)\n",
    "    list_content = list(content)\n",
    "    for row in list_content:\n",
    "        date = row[0].split(' ')[0]\n",
    "        time = row[0].split(' ')[1]\n",
    "        day = datetime.datetime.strptime(date, '%Y-%m-%d').strftime('%a')\n",
    "        row.append(converted_data[' '.join([day, time])])\n",
    "        \n",
    "with open('./data/Linate_wrangled.csv', 'w') as csvfile:\n",
    "    wr = csv.writer(csvfile, delimiter=',')\n",
    "    wr.writerow(['Timestamp', 'Calls.and.SMS.Activity', 'Internet.Activity', 'Twitter.Activity', 'Flights'])\n",
    "    wr.writerows([row for row in list_content])"
   ]
  },
  {
   "cell_type": "code",
   "execution_count": 53,
   "metadata": {
    "collapsed": false
   },
   "outputs": [],
   "source": []
  },
  {
   "cell_type": "code",
   "execution_count": 55,
   "metadata": {
    "collapsed": false
   },
   "outputs": [],
   "source": [
    "\n"
   ]
  }
 ],
 "metadata": {
  "kernelspec": {
   "display_name": "Python 3",
   "language": "python",
   "name": "python3"
  },
  "language_info": {
   "codemirror_mode": {
    "name": "ipython",
    "version": 3
   },
   "file_extension": ".py",
   "mimetype": "text/x-python",
   "name": "python",
   "nbconvert_exporter": "python",
   "pygments_lexer": "ipython3",
   "version": "3.5.2"
  }
 },
 "nbformat": 4,
 "nbformat_minor": 1
}
